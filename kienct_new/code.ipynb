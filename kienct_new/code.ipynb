{
 "cells": [
  {
   "cell_type": "code",
   "execution_count": 7,
   "metadata": {
    "code_folding": [
     68,
     105
    ]
   },
   "outputs": [],
   "source": [
    "from pykinect2 import PyKinectV2\n",
    "from pykinect2.PyKinectV2 import *\n",
    "from pykinect2 import PyKinectRuntime\n",
    "import math\n",
    "import ctypes\n",
    "import _ctypes\n",
    "import pygame\n",
    "import sys\n",
    "from scipy import io\n",
    "import numpy as np\n",
    "import time\n",
    "import cv2\n",
    "import tqdm\n",
    "if sys.hexversion >= 0x03000000:\n",
    "    import _thread as thread\n",
    "else:\n",
    "    import thread\n",
    "SKELETON_COLORS = [pygame.color.THECOLORS[\"red\"], \n",
    "                  pygame.color.THECOLORS[\"blue\"], \n",
    "                  pygame.color.THECOLORS[\"green\"], \n",
    "                  pygame.color.THECOLORS[\"orange\"], \n",
    "                  pygame.color.THECOLORS[\"purple\"], \n",
    "                  pygame.color.THECOLORS[\"yellow\"], \n",
    "                  pygame.color.THECOLORS[\"violet\"]]\n",
    "\n",
    "\n",
    "class BodyGameRuntime(object):\n",
    "    def __init__(self):\n",
    "        pygame.init()\n",
    "        # Used to manage how fast the screen updates\n",
    "        self._clock = pygame.time.Clock()\n",
    "        # Set the width and height of the screen [width, height]\n",
    "        self._infoObject = pygame.display.Info()\n",
    "        self._screen = pygame.display.set_mode((self._infoObject.current_w >> 1, self._infoObject.current_h >> 1), \n",
    "                                               pygame.HWSURFACE|pygame.DOUBLEBUF|pygame.RESIZABLE, 32)\n",
    "        pygame.display.set_caption(\"Kinect for Windows v2 Body Game\")\n",
    "        # Loop until the user clicks the close button.\n",
    "        self._done = False\n",
    "        # Used to manage how fast the screen updates\n",
    "        self._clock = pygame.time.Clock()\n",
    "        # Kinect runtime object, we want only color and body frames \n",
    "        # Kinect运行对象，这里可以设定我们需要从kinect中获得的对象的参数\n",
    "        self._kinect = PyKinectRuntime.PyKinectRuntime(PyKinectV2.FrameSourceTypes_Color | PyKinectV2.FrameSourceTypes_Body | PyKinectV2.FrameSourceTypes_Depth)\n",
    "        # back buffer surface for getting Kinect color frames, 32bit color, width and height equal to the Kinect color frame size\n",
    "        self._frame_surface = pygame.Surface((self._kinect.color_frame_desc.Width, self._kinect.color_frame_desc.Height), 0, 32)\n",
    "        # here we will store skeleton data \n",
    "        self._bodies = None\n",
    "\n",
    "    def draw_body_bone(self, joints, jointPoints, color, joint0, joint1):\n",
    "        joint0State = joints[joint0].TrackingState;\n",
    "        joint1State = joints[joint1].TrackingState;\n",
    "\n",
    "        # both joints are not tracked\n",
    "        if (joint0State == PyKinectV2.TrackingState_NotTracked) or (joint1State == PyKinectV2.TrackingState_NotTracked): \n",
    "            return\n",
    "\n",
    "        # both joints are not *really* tracked\n",
    "        if (joint0State == PyKinectV2.TrackingState_Inferred) and (joint1State == PyKinectV2.TrackingState_Inferred):\n",
    "            return\n",
    "\n",
    "        # ok, at least one is good \n",
    "        start = (jointPoints[joint0].x, jointPoints[joint0].y)\n",
    "        end = (jointPoints[joint1].x, jointPoints[joint1].y)\n",
    "        try:\n",
    "            pygame.draw.line(self._frame_surface, color, start, end, 8)\n",
    "        except: # need to catch it due to possible invalid positions (with inf)\n",
    "            pass\n",
    "\n",
    "    def draw_body(self, joints, jointPoints, color):\n",
    "        # Torso\n",
    "        # 这边PyKinectV2.JointType_ 代表了对应节点在数组中的位置\n",
    "        self.draw_body_bone(joints, jointPoints, color, PyKinectV2.JointType_Head, PyKinectV2.JointType_Neck);\n",
    "        self.draw_body_bone(joints, jointPoints, color, PyKinectV2.JointType_Neck, PyKinectV2.JointType_SpineShoulder);\n",
    "        self.draw_body_bone(joints, jointPoints, color, PyKinectV2.JointType_SpineShoulder, PyKinectV2.JointType_SpineMid);\n",
    "        self.draw_body_bone(joints, jointPoints, color, PyKinectV2.JointType_SpineMid, PyKinectV2.JointType_SpineBase);\n",
    "        self.draw_body_bone(joints, jointPoints, color, PyKinectV2.JointType_SpineShoulder, PyKinectV2.JointType_ShoulderRight);\n",
    "        self.draw_body_bone(joints, jointPoints, color, PyKinectV2.JointType_SpineShoulder, PyKinectV2.JointType_ShoulderLeft);\n",
    "        self.draw_body_bone(joints, jointPoints, color, PyKinectV2.JointType_SpineBase, PyKinectV2.JointType_HipRight);\n",
    "        self.draw_body_bone(joints, jointPoints, color, PyKinectV2.JointType_SpineBase, PyKinectV2.JointType_HipLeft);\n",
    "    \n",
    "        # Right Arm    \n",
    "        self.draw_body_bone(joints, jointPoints, color, PyKinectV2.JointType_ShoulderRight, PyKinectV2.JointType_ElbowRight);\n",
    "        self.draw_body_bone(joints, jointPoints, color, PyKinectV2.JointType_ElbowRight, PyKinectV2.JointType_WristRight);\n",
    "        self.draw_body_bone(joints, jointPoints, color, PyKinectV2.JointType_WristRight, PyKinectV2.JointType_HandRight);\n",
    "        self.draw_body_bone(joints, jointPoints, color, PyKinectV2.JointType_HandRight, PyKinectV2.JointType_HandTipRight);\n",
    "        self.draw_body_bone(joints, jointPoints, color, PyKinectV2.JointType_WristRight, PyKinectV2.JointType_ThumbRight);\n",
    "\n",
    "        # Left Arm\n",
    "        self.draw_body_bone(joints, jointPoints, color, PyKinectV2.JointType_ShoulderLeft, PyKinectV2.JointType_ElbowLeft);\n",
    "        self.draw_body_bone(joints, jointPoints, color, PyKinectV2.JointType_ElbowLeft, PyKinectV2.JointType_WristLeft);\n",
    "        self.draw_body_bone(joints, jointPoints, color, PyKinectV2.JointType_WristLeft, PyKinectV2.JointType_HandLeft);\n",
    "        self.draw_body_bone(joints, jointPoints, color, PyKinectV2.JointType_HandLeft, PyKinectV2.JointType_HandTipLeft);\n",
    "        self.draw_body_bone(joints, jointPoints, color, PyKinectV2.JointType_WristLeft, PyKinectV2.JointType_ThumbLeft);\n",
    "\n",
    "        # Right Leg\n",
    "        self.draw_body_bone(joints, jointPoints, color, PyKinectV2.JointType_HipRight, PyKinectV2.JointType_KneeRight);\n",
    "        self.draw_body_bone(joints, jointPoints, color, PyKinectV2.JointType_KneeRight, PyKinectV2.JointType_AnkleRight);\n",
    "        self.draw_body_bone(joints, jointPoints, color, PyKinectV2.JointType_AnkleRight, PyKinectV2.JointType_FootRight);\n",
    "\n",
    "        # Left Leg\n",
    "        self.draw_body_bone(joints, jointPoints, color, PyKinectV2.JointType_HipLeft, PyKinectV2.JointType_KneeLeft);\n",
    "        self.draw_body_bone(joints, jointPoints, color, PyKinectV2.JointType_KneeLeft, PyKinectV2.JointType_AnkleLeft);\n",
    "        self.draw_body_bone(joints, jointPoints, color, PyKinectV2.JointType_AnkleLeft, PyKinectV2.JointType_FootLeft);\n",
    "\n",
    "\n",
    "    def draw_color_frame(self, frame, target_surface):\n",
    "        target_surface.lock()\n",
    "        address = self._kinect.surface_as_array(target_surface.get_buffer())\n",
    "        ctypes.memmove(address, frame.ctypes.data, frame.size)\n",
    "        del address\n",
    "        target_surface.unlock()\n",
    "\n",
    "    def run(self):\n",
    "        # -------- Main Program Loop -----------\n",
    "        flag_1=0\n",
    "        xyd=[]\n",
    "        time_run=[]\n",
    "        depth_storage=[]\n",
    "        \n",
    "        csp_type = _ColorSpacePoint * np.int(1920 * 1080)\n",
    "        csp = ctypes.cast(csp_type(), ctypes.POINTER(_DepthSpacePoint))\n",
    "        \n",
    "        runtime =time.time()\n",
    "        \n",
    "        while not self._done:\n",
    "            # --- Main event loop\n",
    "            for event in pygame.event.get(): # User did something\n",
    "                if event.type == pygame.QUIT: # If user clicked close\n",
    "                    self._done = True # Flag that we are done so we exit this loop\n",
    "\n",
    "                elif event.type == pygame.VIDEORESIZE: # window resized\n",
    "                    self._screen = pygame.display.set_mode(event.dict['size'], \n",
    "                                               pygame.HWSURFACE|pygame.DOUBLEBUF|pygame.RESIZABLE, 32)\n",
    "                    \n",
    "            # --- Game logic should go here\n",
    "            \n",
    "            # --- Getting frames and drawing  \n",
    "            # --- Woohoo! We've got a color frame! Let's fill out back buffer surface with frame's data \n",
    "            if self._kinect.has_new_color_frame():\n",
    "                frame = self._kinect.get_last_color_frame()\n",
    "                self.draw_color_frame(frame, self._frame_surface)\n",
    "                framec = np.reshape(frame,(1080, 1920, 4))\n",
    "                #cv2.imshow('rgb',framec)\n",
    "                #cv2.waitKey(2)\n",
    "                frame = None\n",
    "                \n",
    "            # --- Cool! We have a body frame, so can get skeletons\n",
    "            if self._kinect.has_new_body_frame(): \n",
    "                self._bodies = self._kinect.get_last_body_frame()\n",
    "                \n",
    "            if self._kinect.has_new_depth_frame():\n",
    "                frameD=self._kinect.get_last_depth_frame()\n",
    "                framed=self._kinect._depth_frame_data\n",
    "                frameD=np.reshape(frameD,(424, 512))         \n",
    "                cfrm=frameD/30\n",
    "                cfrm=cfrm.astype(np.uint8)\n",
    "                flag_1=1\n",
    "            \n",
    "            time_run.append(time.time()-runtime)\n",
    "            # Head, Neck, SpineShoulder, SpineMid, SpineBase, ShoulderRight, ShoulderLeft, HipRight, HipLeft, ElbowRight, WristRight, HandRight \n",
    "            # ElbowLeft, WristLeft, HandLeft, KneeRight, AnkleRight, FootRight, KneeLeft, AnkleLeft, FootLeft\n",
    "            # https://zhuanlan.zhihu.com/p/49428111 \n",
    "            # length of data per frame should be 25\n",
    "            \n",
    "            skelet_this_frame=np.zeros((25,3))\n",
    "            depth_pos_this_frame=np.zeros((25,2))\n",
    "            # --- draw skeletons to _frame_surface\n",
    "            if self._bodies is not None: \n",
    "                for j in range(0, self._kinect.max_body_count):\n",
    "                    body=self._bodies.bodies[j]\n",
    "                    if body.is_tracked:\n",
    "                        # print('tracked')\n",
    "                        joints=body.joints\n",
    "                        joint_points=self._kinect.body_joints_to_color_space(joints)\n",
    "                       # joint_points_depth=self._kinect.body_joints_to_depth_space(joints)\n",
    "                        \n",
    "                        for i in range(0,25):\n",
    "                            #print(i)\n",
    "                            try:\n",
    "                                \n",
    "                                skelet_this_frame[i,0]=int(joint_points[i].x)\n",
    "                                skelet_this_frame[i,1]=int(joint_points[i].y)\n",
    "                                #print(\"****\")\n",
    "                                #print(skelet_this_frame[i,0])\n",
    "                                #print(skelet_this_frame[i,1])\n",
    "                                #print(\"***\")\n",
    "                            except:\n",
    "                                skelet_this_frame[i,0]=0\n",
    "                                skelet_this_frame[i,1]=0\n",
    "                                #print('rgb reading error')\n",
    "                                \n",
    "                        csp = ctypes.cast(csp_type(), ctypes.POINTER(_DepthSpacePoint))\n",
    "                        self._kinect._mapper.MapColorFrameToDepthSpace(ctypes.c_uint(512*424),framed,ctypes.c_uint(1920*1080),csp)\n",
    "                        #print(\"csp initialized\")\n",
    "                        for i in range(0,25):\n",
    "                            try:\n",
    "                                #print(i)\n",
    "                                #print(\"tring on y\")\n",
    "                                node=int(skelet_this_frame[i,1]*1920+skelet_this_frame[i,0])\n",
    "                                #print(skelet_this_frame[i,0])\n",
    "                                #print(skelet_this_frame[i,1])\n",
    "                                #print(node)\n",
    "                                if node > 2073600:\n",
    "                                    continue\n",
    "                                if math.isinf(csp[node].y) or np.isnan(csp[node].y) : \n",
    "                                    #print('error y')\n",
    "                                    skelet_this_frame[i,2]=0\n",
    "                                else:\n",
    "                                    #print(\"enter on y\")\n",
    "                                    depth_pos_this_frame[i,1]=csp[node].y\n",
    "                                    #print(csp[node].y)\n",
    "\n",
    "                                #print(\"tring on y\")\n",
    "                                \n",
    "                                \n",
    "                                if math.isinf(csp[node].x) or np.isnan(csp[node].x): \n",
    "                                    #print('error y')\n",
    "                                    skelet_this_frame[i,2]=0\n",
    "                                else:\n",
    "                                    #print(\"enter on y\")\n",
    "                                    depth_pos_this_frame[i,0]=csp[node].x\n",
    "                                    #print(csp[node].x)\n",
    "                                    \n",
    "                                #print(\"tring on depth\")\n",
    "                                \n",
    "                                \n",
    "                                if math.isinf(frameD[int(depth_pos_this_frame[i,1]),int(depth_pos_this_frame[i,0])]) or np.isnan(frameD[int(depth_pos_this_frame[i,1]),int(depth_pos_this_frame[i,0])]): \n",
    "                                    #print('error on depth')\n",
    "                                    skelet_this_frame[i,2]=0\n",
    "                                else:\n",
    "                                    #print(int(depth_pos_this_frame[i,1]))\n",
    "                                    #print(int(depth_pos_this_frame[i,0]))\n",
    "                                    skelet_this_frame[i,2]=frameD[int(depth_pos_this_frame[i,1]),int(depth_pos_this_frame[i,0])]\n",
    "                                    #print(skelet_this_frame[i,2])\n",
    "                                    \n",
    "                            except:\n",
    "                                skelet_this_frame[i,2]=0\n",
    "                        break\n",
    "                ''' 这部分用来做深度图像匹配的现显示\n",
    "                for i in range(25):\n",
    "                    for j in range(5):\n",
    "                        for k in range(5):\n",
    "                            cfrm[int(depth_pos_this_frame[i,1]+j),int(depth_pos_this_frame[i,0]+k)]=255\n",
    "                    for j in range(10):\n",
    "                        for k in range(10):\n",
    "                            cfrm[100+j,200+k]=255\n",
    "                        cv2.imshow('depth',cfrm)\n",
    "                '''\n",
    "                for i in range(0, self._kinect.max_body_count):\n",
    "                    # 几个人\n",
    "                    body = self._bodies.bodies[i]\n",
    "                    if not body.is_tracked: \n",
    "                        continue \n",
    "                    \n",
    "                    joints = body.joints\n",
    "                    # convert joint coordinates to color space \n",
    "                    joint_points = self._kinect.body_joints_to_color_space(joints)\n",
    "                    self.draw_body(joints, joint_points, SKELETON_COLORS[i])\n",
    "            xyd.append(skelet_this_frame)\n",
    "            depth_storage.append(depth_pos_this_frame)\n",
    "            flag_1=0\n",
    "            \n",
    "            # --- copy back buffer surface pixels to the screen, resize it if needed and keep aspect ratio\n",
    "            # --- (screen size may be different from Kinect's color frame size) \n",
    "            h_to_w = float(self._frame_surface.get_height()) / self._frame_surface.get_width()\n",
    "            target_height = int(h_to_w * self._screen.get_width())\n",
    "            surface_to_draw = pygame.transform.scale(self._frame_surface, (self._screen.get_width(), target_height));\n",
    "            self._screen.blit(surface_to_draw, (0,0))\n",
    "            surface_to_draw = None\n",
    "            pygame.display.update()\n",
    "\n",
    "            # --- Go ahead and update the screen with what we've drawn.\n",
    "            pygame.display.flip()\n",
    "            #pygame.display.update()\n",
    "            # --- Limit to 60 frames per second\n",
    "            self._clock.tick(60)\n",
    "\n",
    "        # Close our Kinect sensor, close the window and quit.\n",
    "        \n",
    "        self._kinect.close()\n",
    "        path=r'D:\\kienct_new\\asset\\new.mat'\n",
    "        io.savemat(path,{\"xyddata\":np.array(xyd),'time':np.array(time_run)})\n",
    "        cv2.destroyAllWindows()\n",
    "        pygame.quit()\n",
    "\n",
    "\n",
    "\n",
    "__main__ = \"Kinect v2 Body Game\"\n",
    "game = BodyGameRuntime();\n",
    "game.run();"
   ]
  },
  {
   "cell_type": "code",
   "execution_count": 1,
   "metadata": {
    "tags": []
   },
   "outputs": [
    {
     "output_type": "stream",
     "name": "stdout",
     "text": [
      "pygame 2.0.0 (SDL 2.0.12, python 3.7.0)\n",
      "Hello from the pygame community. https://www.pygame.org/contribute.html\n",
      "imported\n",
      "start\n",
      "1\n",
      "[   0 7054 7966 ...    0    0    0]\n"
     ]
    }
   ],
   "source": [
    "import cv2\n",
    "from pykinect2 import PyKinectV2\n",
    "from pykinect2.PyKinectV2 import *\n",
    "from pykinect2 import PyKinectRuntime\n",
    "\n",
    "import ctypes\n",
    "import _ctypes\n",
    "import pygame\n",
    "import sys\n",
    "from scipy import io\n",
    "import numpy as np\n",
    "import time\n",
    "import tqdm\n",
    "print(\"imported\")\n",
    "if sys.hexversion >= 0x03000000:\n",
    "    import _thread as thread\n",
    "else:\n",
    "    import thread\n",
    "kinect = PyKinectRuntime.PyKinectRuntime(PyKinectV2.FrameSourceTypes_Color | PyKinectV2.FrameSourceTypes_Body | PyKinectV2.FrameSourceTypes_Depth)\n",
    "frameD=[]\n",
    "a=False\n",
    "print(\"start\")\n",
    "while not a:\n",
    "    #print(kinect.has_new_depth_frame())\n",
    "    if kinect.has_new_color_frame():\n",
    "        frame = kinect.get_last_color_frame()\n",
    "        framec = np.reshape(frame,(1080, 1920, 4))\n",
    "        #cv2.imshow('rgb',framec)\n",
    "        #cv2.waitKey(2)\n",
    "        print(1)\n",
    "        frame = kinect.get_last_color_frame()\n",
    "        frameD=kinect.get_last_depth_frame()\n",
    "        print(frameD)\n",
    "        framed=kinect._depth_frame_data\n",
    "        frameD=np.reshape(frameD,(424, 512))\n",
    "        csp_type = _ColorSpacePoint * np.int(1920 * 1080)\n",
    "        csp = ctypes.cast(csp_type(), ctypes.POINTER(_DepthSpacePoint))\n",
    "        kinect._mapper.MapColorFrameToDepthSpace(ctypes.c_uint(512*424),framed,ctypes.c_uint(1920*1080),csp)\n",
    "        a=True\n"
   ]
  },
  {
   "cell_type": "code",
   "execution_count": 10,
   "metadata": {},
   "outputs": [
    {
     "output_type": "execute_result",
     "data": {
      "text/plain": [
       "-1"
      ]
     },
     "metadata": {},
     "execution_count": 10
    }
   ],
   "source": [
    "cv2.imshow('11',framec_3)\n",
    "cv2.waitKey(20)"
   ]
  },
  {
   "cell_type": "code",
   "execution_count": 4,
   "metadata": {},
   "outputs": [
    {
     "output_type": "execute_result",
     "data": {
      "text/plain": [
       "(1080, 1920)"
      ]
     },
     "metadata": {},
     "execution_count": 4
    }
   ],
   "source": [
    "framec_3=framec[:,:,0:3]\n",
    "framec_hsv=cv2.cvtColor(framec_3,cv2.COLOR_BGR2HSV)[:,:,0]\n",
    "framec_hsv.shape"
   ]
  },
  {
   "cell_type": "code",
   "execution_count": 4,
   "metadata": {},
   "outputs": [
    {
     "output_type": "execute_result",
     "data": {
      "text/plain": [
       "-1"
      ]
     },
     "metadata": {},
     "execution_count": 4
    }
   ],
   "source": [
    "cv2.imshow('11',framec_hsv)\n",
    "cv2.waitKey(20)"
   ]
  },
  {
   "cell_type": "code",
   "execution_count": 18,
   "metadata": {},
   "outputs": [
    {
     "output_type": "execute_result",
     "data": {
      "text/plain": [
       "(1080, 1920, 3)"
      ]
     },
     "metadata": {},
     "execution_count": 18
    }
   ],
   "source": [
    "frame_em.shape"
   ]
  },
  {
   "cell_type": "code",
   "execution_count": 4,
   "metadata": {},
   "outputs": [
    {
     "output_type": "execute_result",
     "data": {
      "text/plain": [
       "-1"
      ]
     },
     "metadata": {},
     "execution_count": 4
    }
   ],
   "source": [
    "cv2.imshow(\"a\",frame_em)\n",
    "cv2.waitKey(2)"
   ]
  },
  {
   "cell_type": "code",
   "execution_count": 10,
   "metadata": {},
   "outputs": [
    {
     "output_type": "execute_result",
     "data": {
      "text/plain": [
       "-1"
      ]
     },
     "metadata": {},
     "execution_count": 10
    }
   ],
   "source": [
    "frame_rep=frame_em.copy()\n",
    "cv2.rectangle(frame_rep,(960-50,300-30),(960+50,300+30),(255,0,0),2)\n",
    "cv2.imshow(\"b\",frame_rep)\n",
    "cv2.waitKey(2)"
   ]
  },
  {
   "cell_type": "code",
   "execution_count": 8,
   "metadata": {},
   "outputs": [
    {
     "output_type": "execute_result",
     "data": {
      "text/plain": [
       "<function ndarray.copy>"
      ]
     },
     "metadata": {},
     "execution_count": 8
    }
   ],
   "source": [
    "frame_rep"
   ]
  },
  {
   "cell_type": "code",
   "execution_count": 10,
   "metadata": {},
   "outputs": [
    {
     "output_type": "execute_result",
     "data": {
      "text/plain": [
       "array([3, 4, 5, 6])"
      ]
     },
     "metadata": {},
     "execution_count": 10
    }
   ],
   "source": [
    "a=np.array([[1,2,3],[4,5,6]])\n",
    "a[a>2]\n"
   ]
  }
 ],
 "metadata": {
  "kernelspec": {
   "name": "python370jvsc74a57bd005266595e8a29ff68fd5c3646d337fb9590770b7a8afec882108f8b131d5486a",
   "display_name": "Python 3.7.0 64-bit (conda)"
  },
  "language_info": {
   "codemirror_mode": {
    "name": "ipython",
    "version": 3
   },
   "file_extension": ".py",
   "mimetype": "text/x-python",
   "name": "python",
   "nbconvert_exporter": "python",
   "pygments_lexer": "ipython3",
   "version": "3.7.0"
  },
  "varInspector": {
   "cols": {
    "lenName": 16,
    "lenType": 16,
    "lenVar": 40
   },
   "kernels_config": {
    "python": {
     "delete_cmd_postfix": "",
     "delete_cmd_prefix": "del ",
     "library": "var_list.py",
     "varRefreshCmd": "print(var_dic_list())"
    },
    "r": {
     "delete_cmd_postfix": ") ",
     "delete_cmd_prefix": "rm(",
     "library": "var_list.r",
     "varRefreshCmd": "cat(var_dic_list()) "
    }
   },
   "types_to_exclude": [
    "module",
    "function",
    "builtin_function_or_method",
    "instance",
    "_Feature"
   ],
   "window_display": false
  }
 },
 "nbformat": 4,
 "nbformat_minor": 2
}